{
 "cells": [
  {
   "cell_type": "code",
   "execution_count": 1,
   "metadata": {
    "id": "65jslCCrQagQ"
   },
   "outputs": [],
   "source": [
    "import torch\n",
    "import torch.nn as nn\n",
    "import numpy as np\n",
    "import matplotlib.pyplot as plt\n",
    "import pandas as pd\n",
    "\n",
    "from autoencoder import AutoEncoder\n",
    "from reader import to_embeddings, get_loader, get_sentence_model"
   ]
  },
  {
   "cell_type": "code",
   "execution_count": 2,
   "metadata": {},
   "outputs": [],
   "source": [
    "device = torch.device(\"cuda\" if torch.cuda.is_available() else \"cpu\")"
   ]
  },
  {
   "cell_type": "code",
   "execution_count": 3,
   "metadata": {},
   "outputs": [],
   "source": [
    "X_test = pd.read_csv(\"data/test.csv\")['prompt'].tolist()\n",
    "\n",
    "test_embeddings = to_embeddings(X_test, device)\n",
    "test_loader = get_loader(test_embeddings)"
   ]
  },
  {
   "cell_type": "code",
   "execution_count": 4,
   "metadata": {},
   "outputs": [
    {
     "data": {
      "text/plain": [
       "<All keys matched successfully>"
      ]
     },
     "execution_count": 4,
     "metadata": {},
     "output_type": "execute_result"
    }
   ],
   "source": [
    "input_dim = 384 # Sentence Transformer Embedding Size\n",
    "\n",
    "model = AutoEncoder(input_dim=input_dim).to(device)\n",
    "model.load_state_dict(torch.load(\"checkpoint.pth\", weights_only=True))"
   ]
  },
  {
   "cell_type": "code",
   "execution_count": 5,
   "metadata": {
    "colab": {
     "base_uri": "https://localhost:8080/",
     "height": 427
    },
    "id": "WaVhVdm_moKW",
    "outputId": "7a9887ad-8363-45af-d4c8-1c6f47b7a2fc"
   },
   "outputs": [
    {
     "name": "stdout",
     "output_type": "stream",
     "text": [
      "Average Reconstruction Error on Test Set: 0.0011\n"
     ]
    },
    {
     "data": {
      "image/png": "[encoded data removed]",
      "text/plain": [
       "<Figure size 800x400 with 1 Axes>"
      ]
     },
     "metadata": {},
     "output_type": "display_data"
    }
   ],
   "source": [
    "model.eval()\n",
    "\n",
    "all_errors = []\n",
    "\n",
    "with torch.no_grad():\n",
    "    for batch in test_loader:\n",
    "        batch = batch.to(device)\n",
    "        \n",
    "        recon_batch = model(batch)\n",
    "        \n",
    "        batch_errors = torch.mean((recon_batch - batch) ** 2, dim=1)\n",
    "        \n",
    "        all_errors.extend(batch_errors.cpu().numpy())\n",
    "        \n",
    "reconstruction_errors = np.array(all_errors)\n",
    "print(\"Average Reconstruction Error on Test Set: {:.4f}\".format(np.mean(reconstruction_errors)))\n",
    "\n",
    "# Plot histogram for visualization\n",
    "plt.figure(figsize=(8, 4))\n",
    "plt.hist(reconstruction_errors, bins=30, edgecolor='black')\n",
    "plt.title(\"Histogram of Reconstruction Errors on Test Set\")\n",
    "plt.xlabel(\"Reconstruction Error\")\n",
    "plt.ylabel(\"Frequency\")\n",
    "plt.show()"
   ]
  },
  {
   "cell_type": "markdown",
   "metadata": {
    "id": "CItaTei6mypz"
   },
   "source": [
    "## Inference Setup & Calibration"
   ]
  },
  {
   "cell_type": "code",
   "execution_count": 6,
   "metadata": {
    "colab": {
     "base_uri": "https://localhost:8080/"
    },
    "id": "UwUD-Y3Xm2Ec",
    "outputId": "1849e568-c501-4b97-c561-6981c8f9159f"
   },
   "outputs": [
    {
     "name": "stdout",
     "output_type": "stream",
     "text": [
      "Mean error: 0.0011, Std error: 0.0005\n",
      "Threshold set at: 0.0016\n"
     ]
    }
   ],
   "source": [
    "def classify_prompt(prompt, model, sentence_model, threshold):\n",
    "    emb = sentence_model.encode(prompt, convert_to_tensor=True).clone().detach().to(device)\n",
    "    emb = emb.unsqueeze(0)\n",
    "\n",
    "    model.eval()\n",
    "\n",
    "    with torch.no_grad():\n",
    "        recon = model(emb)\n",
    "        error = torch.mean((recon - emb) ** 2, dim=1).item()\n",
    "\n",
    "    classification = 1 if error < threshold else 0\n",
    "\n",
    "    return error, classification\n",
    "\n",
    "# Calibrate threshold (e.g., mean + std)\n",
    "mean_error = np.mean(reconstruction_errors)\n",
    "std_error = np.std(reconstruction_errors)\n",
    "threshold = mean_error + std_error\n",
    "print(f\"Mean error: {mean_error:.4f}, Std error: {std_error:.4f}\")\n",
    "print(f\"Threshold set at: {threshold:.4f}\")"
   ]
  },
  {
   "cell_type": "code",
   "execution_count": 7,
   "metadata": {
    "id": "fvTJdYFanfvK"
   },
   "outputs": [],
   "source": [
    "threshold = 0.002 # Extra room for safety and according to the histogram"
   ]
  },
  {
   "cell_type": "markdown",
   "metadata": {
    "id": "5y1xw_cNo2EE"
   },
   "source": [
    "### More Evaluations"
   ]
  },
  {
   "cell_type": "code",
   "execution_count": 17,
   "metadata": {
    "colab": {
     "base_uri": "https://localhost:8080/"
    },
    "id": "NH3c7Qn9o05S",
    "outputId": "ba1a84a5-8b1f-4a5b-a669-d314b2d827d5"
   },
   "outputs": [
    {
     "name": "stdout",
     "output_type": "stream",
     "text": [
      "Recall: 0.9732\n",
      "False Negative Rate (FNR): 0.0268\n"
     ]
    }
   ],
   "source": [
    "errors = []\n",
    "classifications = []\n",
    "\n",
    "sentence_model = get_sentence_model(device)\n",
    "\n",
    "for prompt in X_test:\n",
    "    error, classification = classify_prompt(prompt, model, sentence_model, threshold)\n",
    "\n",
    "    errors.append(error)\n",
    "    classifications.append(classification)\n",
    "\n",
    "false_negatives = []\n",
    "for prompt, classification, error in zip(X_test, classifications, errors):\n",
    "    if classification == 0:\n",
    "        false_negatives.append((prompt, error))\n",
    "\n",
    "FN = len(false_negatives)\n",
    "TP = len(X_test) - FN\n",
    "\n",
    "# Calculate Recall and FNR\n",
    "recall = TP / (TP + FN)\n",
    "fnr = FN / (TP + FN)\n",
    "\n",
    "print(f\"Recall: {recall:.4f}\")\n",
    "print(f\"False Negative Rate (FNR): {fnr:.4f}\")"
   ]
  },
  {
   "cell_type": "markdown",
   "metadata": {
    "id": "8zpVCacTm7tt"
   },
   "source": [
    "## Testing on a new dataset"
   ]
  },
  {
   "cell_type": "code",
   "execution_count": 11,
   "metadata": {
    "colab": {
     "base_uri": "https://localhost:8080/"
    },
    "id": "vDYxw2iLnAfp",
    "outputId": "800687cf-48fe-40c1-ad39-1f780899709c"
   },
   "outputs": [
    {
     "data": {
      "application/vnd.jupyter.widget-view+json": {
       "model_id": "44ec9e8ab23d42a78d1fa3643664fb77",
       "version_major": 2,
       "version_minor": 0
      },
      "text/plain": [
       "README.md:   0%|          | 0.00/6.55k [00:00<?, ?B/s]"
      ]
     },
     "metadata": {},
     "output_type": "display_data"
    },
    {
     "data": {
      "application/vnd.jupyter.widget-view+json": {
       "model_id": "169aab663a1741a99b5a0ebd90bcf4c8",
       "version_major": 2,
       "version_minor": 0
      },
      "text/plain": [
       "harmful-behaviors.csv:   0%|          | 0.00/23.1k [00:00<?, ?B/s]"
      ]
     },
     "metadata": {},
     "output_type": "display_data"
    },
    {
     "data": {
      "application/vnd.jupyter.widget-view+json": {
       "model_id": "18e8ca8ddadb4e3bad9fce9cf8cf4549",
       "version_major": 2,
       "version_minor": 0
      },
      "text/plain": [
       "benign-behaviors.csv:   0%|          | 0.00/20.6k [00:00<?, ?B/s]"
      ]
     },
     "metadata": {},
     "output_type": "display_data"
    },
    {
     "data": {
      "application/vnd.jupyter.widget-view+json": {
       "model_id": "7700e9a5b285480c92063a0c1dcc9f28",
       "version_major": 2,
       "version_minor": 0
      },
      "text/plain": [
       "Generating harmful split:   0%|          | 0/100 [00:00<?, ? examples/s]"
      ]
     },
     "metadata": {},
     "output_type": "display_data"
    },
    {
     "data": {
      "application/vnd.jupyter.widget-view+json": {
       "model_id": "07f8a91a1ded480db6decf1fc0ff36e0",
       "version_major": 2,
       "version_minor": 0
      },
      "text/plain": [
       "Generating benign split:   0%|          | 0/100 [00:00<?, ? examples/s]"
      ]
     },
     "metadata": {},
     "output_type": "display_data"
    }
   ],
   "source": [
    "from datasets import load_dataset\n",
    "\n",
    "ds = load_dataset(\"JailbreakBench/JBB-Behaviors\", \"behaviors\")"
   ]
  },
  {
   "cell_type": "code",
   "execution_count": 34,
   "metadata": {},
   "outputs": [
    {
     "name": "stdout",
     "output_type": "stream",
     "text": [
      "Recall: 0.8900\n",
      "False Negative Rate (FNR): 0.1100\n"
     ]
    }
   ],
   "source": [
    "errors = []\n",
    "classifications = []\n",
    "\n",
    "new_prompts = ds['harmful']['Goal']\n",
    "\n",
    "for prompt in new_prompts:\n",
    "    error, classification = classify_prompt(prompt, model, sentence_model, threshold)\n",
    "\n",
    "    errors.append(error)\n",
    "    classifications.append(classification)\n",
    "\n",
    "false_negatives = []\n",
    "for prompt, classification, error in zip(new_prompts, classifications, errors):\n",
    "    if classification == 0:\n",
    "        false_negatives.append((prompt, error))\n",
    "\n",
    "FN = len(false_negatives)\n",
    "TP = len(new_prompts) - FN\n",
    "\n",
    "# Calculate Recall and FNR\n",
    "recall = TP / (TP + FN)\n",
    "fnr = FN / (TP + FN)\n",
    "\n",
    "print(f\"Recall: {recall:.4f}\")\n",
    "print(f\"False Negative Rate (FNR): {fnr:.4f}\")"
   ]
  }
 ],
 "metadata": {
  "accelerator": "GPU",
  "colab": {
   "gpuType": "T4",
   "provenance": []
  },
  "kernelspec": {
   "display_name": "Python 3.11 (default)",
   "language": "python",
   "name": "python3"
  },
  "language_info": {
   "codemirror_mode": {
    "name": "ipython",
    "version": 3
   },
   "file_extension": ".py",
   "mimetype": "text/x-python",
   "name": "python",
   "nbconvert_exporter": "python",
   "pygments_lexer": "ipython3",
   "version": "3.11.11"
  }
 },
 "nbformat": 4,
 "nbformat_minor": 4
}
