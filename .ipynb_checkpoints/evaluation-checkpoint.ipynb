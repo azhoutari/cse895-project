{
 "cells": [
  {
   "cell_type": "code",
   "execution_count": 1,
   "id": "01d37ca9-b141-4dfd-a606-ca1b390329c2",
   "metadata": {},
   "outputs": [],
   "source": [
    "import torch\n",
    "import torch.nn as nn\n",
    "import numpy as np\n",
    "import matplotlib.pyplot as plt\n",
    "import pandas as pd\n",
    "\n",
    "from transformer_autoencoder import TransformerAutoEncoder\n",
    "from torch.utils.data import DataLoader, Dataset"
   ]
  },
  {
   "cell_type": "code",
   "execution_count": 55,
   "id": "4811dbb9-ba92-4068-ad62-34ab1ba66240",
   "metadata": {},
   "outputs": [],
   "source": [
    "def classify_prompt(prompt, transformer_ae, threshold, device, scale_loss=False):\n",
    "    transformer_ae.model.eval()\n",
    "    with torch.no_grad():\n",
    "        inputs = transformer_ae.tokenize_prompts([prompt])\n",
    "        outputs = transformer_ae.model(**inputs, labels=inputs[\"input_ids\"])\n",
    "        loss = outputs.loss.item()  # average loss per token\n",
    "        if scale_loss:\n",
    "            # Multiply by the sequence length to get total loss\n",
    "            loss = loss * inputs[\"input_ids\"].shape[1]\n",
    "    classification = 1 if loss < threshold else 0\n",
    "    return loss, classification\n"
   ]
  },
  {
   "cell_type": "code",
   "execution_count": 12,
   "id": "b08822c6-214a-4e71-986d-12bdd622a82c",
   "metadata": {},
   "outputs": [
    {
     "name": "stderr",
     "output_type": "stream",
     "text": [
      "/tmp/ipykernel_2397957/1548152119.py:8: FutureWarning: You are using `torch.load` with `weights_only=False` (the current default value), which uses the default pickle module implicitly. It is possible to construct malicious pickle data which will execute arbitrary code during unpickling (See https://github.com/pytorch/pytorch/blob/main/SECURITY.md#untrusted-models for more details). In a future release, the default value for `weights_only` will be flipped to `True`. This limits the functions that could be executed during unpickling. Arbitrary objects will no longer be allowed to be loaded via this mode unless they are explicitly allowlisted by the user via `torch.serialization.add_safe_globals`. We recommend you start setting `weights_only=True` for any use case where you don't have full control of the loaded file. Please open an issue on GitHub for any issues related to this experimental feature.\n",
      "  transformer_ae.model.load_state_dict(torch.load(\"transformer_checkpoint.pth\", map_location=device))\n"
     ]
    },
    {
     "data": {
      "text/plain": [
       "<All keys matched successfully>"
      ]
     },
     "execution_count": 12,
     "metadata": {},
     "output_type": "execute_result"
    }
   ],
   "source": [
    "device = torch.device(\"cuda\" if torch.cuda.is_available() else \"cpu\")\n",
    "model_name = \"facebook/bart-base\"\n",
    "max_length = 128\n",
    "\n",
    "X_test = pd.read_csv(\"data/test.csv\")['prompt'].tolist()\n",
    "\n",
    "transformer_ae = TransformerAutoEncoder(model_name=model_name, device=device, max_length=max_length)\n",
    "transformer_ae.model.load_state_dict(torch.load(\"transformer_checkpoint.pth\", map_location=device))"
   ]
  },
  {
   "cell_type": "code",
   "execution_count": 13,
   "id": "e9afac90-6d5e-4ae3-92bc-1a0270a047e4",
   "metadata": {},
   "outputs": [
    {
     "name": "stdout",
     "output_type": "stream",
     "text": [
      "Average Reconstruction Loss on Test Set: 0.0014\n"
     ]
    },
    {
     "data": {
      "image/png": "[encoded data removed]",
      "text/plain": [
       "<Figure size 800x400 with 1 Axes>"
      ]
     },
     "metadata": {},
     "output_type": "display_data"
    }
   ],
   "source": [
    "all_losses = []\n",
    "transformer_ae.model.eval()\n",
    "with torch.no_grad():\n",
    "    for prompt in X_test:\n",
    "        # Tokenize the prompt\n",
    "        inputs = transformer_ae.tokenize_prompts([prompt])\n",
    "        # Forward pass; the model calculates token-level crossentropy loss\n",
    "        outputs = transformer_ae.model(**inputs, labels=inputs[\"input_ids\"])\n",
    "        loss = outputs.loss.item()  # get the scalar loss value\n",
    "        all_losses.append(loss)\n",
    "\n",
    "all_losses = np.array(all_losses)\n",
    "print(\"Average Reconstruction Loss on Test Set: {:.4f}\".format(np.mean(all_losses)))\n",
    "\n",
    "# Plot the histogram of reconstruction losses\n",
    "plt.figure(figsize=(8, 4))\n",
    "plt.hist(all_losses, bins=30, edgecolor='black')\n",
    "plt.title(\"Histogram of Reconstruction Losses on Test Set\")\n",
    "plt.xlabel(\"Reconstruction Loss\")\n",
    "plt.ylabel(\"Frequency\")\n",
    "plt.show()"
   ]
  },
  {
   "cell_type": "code",
   "execution_count": 28,
   "id": "7111f55f-f79a-4e06-a30a-eca4ed740263",
   "metadata": {},
   "outputs": [
    {
     "name": "stdout",
     "output_type": "stream",
     "text": [
      "Mean error: 0.0014, Std error: 0.0129\n",
      "Threshold set at: 0.0143\n"
     ]
    }
   ],
   "source": [
    "mean_error = np.mean(all_losses)\n",
    "std_error = np.std(all_losses)\n",
    "threshold = mean_error + std_error\n",
    "print(f\"Mean error: {mean_error:.4f}, Std error: {std_error:.4f}\")\n",
    "print(f\"Threshold set at: {threshold:.4f}\")\n",
    "\n",
    "threshold = 0.00001"
   ]
  },
  {
   "cell_type": "code",
   "execution_count": 61,
   "id": "ea34b3bf-ef8a-43e9-a33c-67de32f189e7",
   "metadata": {},
   "outputs": [
    {
     "name": "stdout",
     "output_type": "stream",
     "text": [
      "Threshold set at the 95th percentile: 0.0007\n"
     ]
    }
   ],
   "source": [
    "# Suppose 'reconstruction_errors' is your array of losses:\n",
    "threshold_percentile = 95  # or 99\n",
    "threshold = np.percentile(reconstruction_errors, threshold_percentile)\n",
    "print(\"Threshold set at the {}th percentile: {:.4f}\".format(threshold_percentile, threshold))\n"
   ]
  },
  {
   "cell_type": "code",
   "execution_count": 15,
   "id": "20dbd79c-e4c2-4284-8845-6ceea3d8debf",
   "metadata": {},
   "outputs": [],
   "source": [
    "from datasets import load_dataset\n",
    "\n",
    "ds = load_dataset(\"JailbreakBench/JBB-Behaviors\", \"behaviors\")"
   ]
  },
  {
   "cell_type": "code",
   "execution_count": 18,
   "id": "34d55c32-4c70-4e2b-8e3d-274f841ea17a",
   "metadata": {},
   "outputs": [
    {
     "name": "stdout",
     "output_type": "stream",
     "text": [
      "Average Reconstruction Loss on Test Set: 0.0014\n"
     ]
    }
   ],
   "source": [
    "# Load test data (assumes a CSV with a 'prompt' column)\n",
    "new_prompts = ds['harmful']['Goal']\n",
    "\n",
    "errors = []\n",
    "classifications = []\n",
    "\n",
    "for prompt in X_test:\n",
    "    loss, classification = classify_prompt(prompt, transformer_ae, threshold, device)\n",
    "    errors.append(loss)\n",
    "    classifications.append(classification)\n",
    "\n",
    "reconstruction_errors = np.array(errors)\n",
    "print(f\"Average Reconstruction Loss on Test Set: {np.mean(reconstruction_errors):.4f}\")"
   ]
  },
  {
   "cell_type": "code",
   "execution_count": 63,
   "id": "981c6427-f790-4904-b2a9-ea7e3e27a7c8",
   "metadata": {},
   "outputs": [
    {
     "data": {
      "text/plain": [
       "(1, 0.00012266488829482114)"
      ]
     },
     "execution_count": 63,
     "metadata": {},
     "output_type": "execute_result"
    }
   ],
   "source": [
    "loss, classification = classify_prompt(\"how can i write a letter?\", transformer_ae, threshold, device, scale_loss=True)\n",
    "\n",
    "classification, loss"
   ]
  },
  {
   "cell_type": "code",
   "execution_count": null,
   "id": "d9b20d2b-d7fc-44f5-883f-39c19b539565",
   "metadata": {},
   "outputs": [],
   "source": []
  }
 ],
 "metadata": {
  "kernelspec": {
   "display_name": "Python 3.11 (default)",
   "language": "python",
   "name": "python3"
  },
  "language_info": {
   "codemirror_mode": {
    "name": "ipython",
    "version": 3
   },
   "file_extension": ".py",
   "mimetype": "text/x-python",
   "name": "python",
   "nbconvert_exporter": "python",
   "pygments_lexer": "ipython3",
   "version": "3.11.11"
  }
 },
 "nbformat": 4,
 "nbformat_minor": 5
}
