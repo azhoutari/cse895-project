{
 "cells": [
  {
   "cell_type": "code",
   "execution_count": 1,
   "metadata": {
    "id": "65jslCCrQagQ"
   },
   "outputs": [],
   "source": [
    "import torch\n",
    "import torch.nn as nn\n",
    "import numpy as np\n",
    "import matplotlib.pyplot as plt\n",
    "import pandas as pd\n",
    "\n",
    "from autoencoder import AutoEncoder\n",
    "from reader import to_embeddings, get_loader, get_sentence_model"
   ]
  },
  {
   "cell_type": "code",
   "execution_count": 2,
   "metadata": {},
   "outputs": [
    {
     "name": "stdout",
     "output_type": "stream",
     "text": [
      "cuda\n"
     ]
    }
   ],
   "source": [
    "device = torch.device(\"cuda\" if torch.cuda.is_available() else \"cpu\")\n",
    "print(device)"
   ]
  },
  {
   "cell_type": "code",
   "execution_count": 3,
   "metadata": {},
   "outputs": [],
   "source": [
    "X_test = pd.read_csv(\"data/test.csv\")['prompt'].tolist()\n",
    "\n",
    "test_embeddings = to_embeddings(X_test, device)\n",
    "test_loader = get_loader(test_embeddings)"
   ]
  },
  {
   "cell_type": "code",
   "execution_count": 4,
   "metadata": {},
   "outputs": [
    {
     "data": {
      "text/plain": [
       "<All keys matched successfully>"
      ]
     },
     "execution_count": 4,
     "metadata": {},
     "output_type": "execute_result"
    }
   ],
   "source": [
    "#input_dim = 384 # Sentence Transformer Embedding Size\n",
    "# Get input dimension from embeddings shape\n",
    "input_dim = test_embeddings.shape[1]\n",
    "\n",
    "model = AutoEncoder(input_dim=input_dim).to(device)\n",
    "model.load_state_dict(torch.load(\"checkpoint.pth\", weights_only=True))"
   ]
  },
  {
   "cell_type": "code",
   "execution_count": 5,
   "metadata": {
    "colab": {
     "base_uri": "https://localhost:8080/",
     "height": 427
    },
    "id": "WaVhVdm_moKW",
    "outputId": "7a9887ad-8363-45af-d4c8-1c6f47b7a2fc"
   },
   "outputs": [
    {
     "name": "stdout",
     "output_type": "stream",
     "text": [
      "Average Reconstruction Error on Test Set: 0.0011\n"
     ]
    },
    {
     "data": {
      "image/png": "[encoded data removed]",
      "text/plain": [
       "<Figure size 800x400 with 1 Axes>"
      ]
     },
     "metadata": {},
     "output_type": "display_data"
    }
   ],
   "source": [
    "model.eval()\n",
    "\n",
    "all_errors = []\n",
    "\n",
    "with torch.no_grad():\n",
    "    for batch in test_loader:\n",
    "        batch = batch.to(device)\n",
    "        \n",
    "        recon_batch = model(batch)\n",
    "\n",
    "        batch_errors = torch.mean((recon_batch - batch) ** 2, dim=1)\n",
    "        \n",
    "        all_errors.extend(batch_errors.cpu().numpy())\n",
    "        \n",
    "reconstruction_errors = np.array(all_errors)\n",
    "print(\"Average Reconstruction Error on Test Set: {:.4f}\".format(np.mean(reconstruction_errors)))\n",
    "\n",
    "# Plot histogram for visualization\n",
    "plt.figure(figsize=(8, 4))\n",
    "plt.hist(reconstruction_errors, bins=30, edgecolor='black')\n",
    "plt.title(\"Histogram of Reconstruction Errors on Test Set\")\n",
    "plt.xlabel(\"Reconstruction Error\")\n",
    "plt.ylabel(\"Frequency\")\n",
    "plt.show()"
   ]
  },
  {
   "cell_type": "markdown",
   "metadata": {
    "id": "CItaTei6mypz"
   },
   "source": [
    "## Inference Setup & Calibration"
   ]
  },
  {
   "cell_type": "code",
   "execution_count": 6,
   "metadata": {
    "colab": {
     "base_uri": "https://localhost:8080/"
    },
    "id": "UwUD-Y3Xm2Ec",
    "outputId": "1849e568-c501-4b97-c561-6981c8f9159f"
   },
   "outputs": [
    {
     "name": "stdout",
     "output_type": "stream",
     "text": [
      "Threshold set at the 95th percentile: 0.0019\n"
     ]
    }
   ],
   "source": [
    "def classify_prompt(prompt, model, sentence_model, threshold):\n",
    "    emb = sentence_model.encode(prompt, convert_to_tensor=True).clone().detach().to(device)\n",
    "    emb = emb.unsqueeze(0)\n",
    "\n",
    "    model.eval()\n",
    "\n",
    "    with torch.no_grad():\n",
    "        recon = model(emb)\n",
    "        error = torch.mean((recon - emb) ** 2, dim=1).item()\n",
    "\n",
    "    classification = 1 if error < threshold else 0\n",
    "\n",
    "    return error, classification\n",
    "\n",
    "threshold_percentile = 95 \n",
    "threshold = np.percentile(reconstruction_errors, threshold_percentile)\n",
    "print(\"Threshold set at the {}th percentile: {:.4f}\".format(threshold_percentile, threshold))"
   ]
  },
  {
   "cell_type": "markdown",
   "metadata": {
    "id": "5y1xw_cNo2EE"
   },
   "source": [
    "### More Evaluations"
   ]
  },
  {
   "cell_type": "code",
   "execution_count": 7,
   "metadata": {
    "colab": {
     "base_uri": "https://localhost:8080/"
    },
    "id": "NH3c7Qn9o05S",
    "outputId": "ba1a84a5-8b1f-4a5b-a669-d314b2d827d5"
   },
   "outputs": [
    {
     "name": "stdout",
     "output_type": "stream",
     "text": [
      "Recall: 0.9497\n",
      "False Negative Rate (FNR): 0.0503\n"
     ]
    }
   ],
   "source": [
    "errors = []\n",
    "classifications = []\n",
    "\n",
    "sentence_model = get_sentence_model(device)\n",
    "\n",
    "for prompt in X_test:\n",
    "    error, classification = classify_prompt(prompt, model, sentence_model, threshold)\n",
    "\n",
    "    errors.append(error)\n",
    "    classifications.append(classification)\n",
    "\n",
    "false_negatives = []\n",
    "for prompt, classification, error in zip(X_test, classifications, errors):\n",
    "    if classification == 0:\n",
    "        false_negatives.append((prompt, error))\n",
    "\n",
    "FN = len(false_negatives)\n",
    "TP = len(X_test) - FN\n",
    "\n",
    "# Calculate Recall and FNR\n",
    "recall = TP / (TP + FN)\n",
    "fnr = FN / (TP + FN)\n",
    "\n",
    "print(f\"Recall: {recall:.4f}\")\n",
    "print(f\"False Negative Rate (FNR): {fnr:.4f}\")"
   ]
  },
  {
   "cell_type": "markdown",
   "metadata": {
    "id": "8zpVCacTm7tt"
   },
   "source": [
    "## Testing on a new dataset"
   ]
  },
  {
   "cell_type": "code",
   "execution_count": 22,
   "metadata": {
    "colab": {
     "base_uri": "https://localhost:8080/"
    },
    "id": "vDYxw2iLnAfp",
    "outputId": "800687cf-48fe-40c1-ad39-1f780899709c"
   },
   "outputs": [],
   "source": [
    "from datasets import load_dataset\n",
    "\n",
    "jbb = load_dataset(\"JailbreakBench/JBB-Behaviors\", \"behaviors\")\n",
    "wikiqa = load_dataset(\"microsoft/wiki_qa\")"
   ]
  },
  {
   "cell_type": "code",
   "execution_count": 27,
   "metadata": {},
   "outputs": [
    {
     "data": {
      "text/plain": [
       "'how was the toreador fresco completed'"
      ]
     },
     "execution_count": 27,
     "metadata": {},
     "output_type": "execute_result"
    }
   ],
   "source": [
    "harmful_prompts = jbb['harmful']['Goal']\n",
    "questions = list(set(ds['test']['question']))\n",
    "\n",
    "df_normal = pd.DataFrame({\n",
    "    'prompt': questions,\n",
    "    'label': 0\n",
    "})\n",
    "\n",
    "df_harmful = pd.DataFrame({\n",
    "    'prompt': harmful_prompts,\n",
    "    'label': 1\n",
    "})\n",
    "\n",
    "df = pd.concat([df_normal, df_harmful], ignore_index=True)"
   ]
  },
  {
   "cell_type": "code",
   "execution_count": 28,
   "metadata": {},
   "outputs": [
    {
     "name": "stdout",
     "output_type": "stream",
     "text": [
      "Confusion Matrix (rows: true labels, columns: predicted labels):\n",
      "[[629   4]\n",
      " [ 26  74]]\n",
      "Recall (for harmful prompts): 0.7400\n",
      "False Negative Rate (FNR) (for harmful prompts): 0.2600\n"
     ]
    }
   ],
   "source": [
    "from sklearn.metrics import confusion_matrix\n",
    "\n",
    "# Assume df is already defined with columns 'prompt' and 'label'\n",
    "# where label 0 = normal question and 1 = harmful prompt\n",
    "\n",
    "errors = []\n",
    "predictions = []\n",
    "\n",
    "# Iterate over each row in the dataframe\n",
    "for idx, row in df.iterrows():\n",
    "    prompt = row['prompt']\n",
    "    # Classify the prompt (classification: 0 for normal, 1 for harmful)\n",
    "    error, classification = classify_prompt(prompt, model, sentence_model, threshold)\n",
    "    errors.append(error)\n",
    "    predictions.append(classification)\n",
    "\n",
    "# Add the predictions and errors to the dataframe (optional)\n",
    "df['predicted'] = predictions\n",
    "df['error'] = errors\n",
    "\n",
    "# Compute confusion matrix using the ground truth labels and the model's predictions.\n",
    "# The matrix will be formatted as:\n",
    "# [[True Negatives, False Positives],\n",
    "#  [False Negatives, True Positives]]\n",
    "cm = confusion_matrix(df['label'], df['predicted'], labels=[0, 1]) \n",
    "print(\"Confusion Matrix (rows: true labels, columns: predicted labels):\")\n",
    "print(cm)\n",
    "\n",
    "# For harmful prompts (ground truth label = 1), calculate False Negatives and True Positives.\n",
    "false_negatives = df[(df['label'] == 1) & (df['predicted'] == 0)]\n",
    "true_positives = df[(df['label'] == 1) & (df['predicted'] == 1)]\n",
    "FN = len(false_negatives)\n",
    "TP = len(true_positives)\n",
    "\n",
    "# Calculate Recall and False Negative Rate (FNR) for harmful prompts.\n",
    "recall = TP / (TP + FN) if (TP + FN) > 0 else 0\n",
    "fnr = FN / (TP + FN) if (TP + FN) > 0 else 0\n",
    "\n",
    "print(f\"Recall (for harmful prompts): {recall:.4f}\")\n",
    "print(f\"False Negative Rate (FNR) (for harmful prompts): {fnr:.4f}\")"
   ]
  },
  {
   "cell_type": "code",
   "execution_count": 10,
   "metadata": {},
   "outputs": [
    {
     "data": {
      "application/vnd.jupyter.widget-view+json": {
       "model_id": "1cc8374a6d1447b295c1c1a84017eb00",
       "version_major": 2,
       "version_minor": 0
      },
      "text/plain": [
       "README.md:   0%|          | 0.00/13.8k [00:00<?, ?B/s]"
      ]
     },
     "metadata": {},
     "output_type": "display_data"
    },
    {
     "data": {
      "application/vnd.jupyter.widget-view+json": {
       "model_id": "91c8ccf3bd934f18b990d85a671fade7",
       "version_major": 2,
       "version_minor": 0
      },
      "text/plain": [
       "test-00000-of-00001.parquet:   0%|          | 0.00/594k [00:00<?, ?B/s]"
      ]
     },
     "metadata": {},
     "output_type": "display_data"
    },
    {
     "data": {
      "application/vnd.jupyter.widget-view+json": {
       "model_id": "35481b3649e2419680dc8cfc115d9a8d",
       "version_major": 2,
       "version_minor": 0
      },
      "text/plain": [
       "validation-00000-of-00001.parquet:   0%|          | 0.00/264k [00:00<?, ?B/s]"
      ]
     },
     "metadata": {},
     "output_type": "display_data"
    },
    {
     "data": {
      "application/vnd.jupyter.widget-view+json": {
       "model_id": "e7518490e72f4f4b904f90ca849e265f",
       "version_major": 2,
       "version_minor": 0
      },
      "text/plain": [
       "train-00000-of-00001.parquet:   0%|          | 0.00/2.00M [00:00<?, ?B/s]"
      ]
     },
     "metadata": {},
     "output_type": "display_data"
    },
    {
     "data": {
      "application/vnd.jupyter.widget-view+json": {
       "model_id": "2d03e60d9d494920b09aa96c2126dc56",
       "version_major": 2,
       "version_minor": 0
      },
      "text/plain": [
       "Generating test split:   0%|          | 0/6165 [00:00<?, ? examples/s]"
      ]
     },
     "metadata": {},
     "output_type": "display_data"
    },
    {
     "data": {
      "application/vnd.jupyter.widget-view+json": {
       "model_id": "92d44a5ac81842a2bbb1cd0699338851",
       "version_major": 2,
       "version_minor": 0
      },
      "text/plain": [
       "Generating validation split:   0%|          | 0/2733 [00:00<?, ? examples/s]"
      ]
     },
     "metadata": {},
     "output_type": "display_data"
    },
    {
     "data": {
      "application/vnd.jupyter.widget-view+json": {
       "model_id": "a910aa7110b7407d9b4071acb8147ded",
       "version_major": 2,
       "version_minor": 0
      },
      "text/plain": [
       "Generating train split:   0%|          | 0/20360 [00:00<?, ? examples/s]"
      ]
     },
     "metadata": {},
     "output_type": "display_data"
    }
   ],
   "source": [
    "from datasets import load_dataset\n",
    "\n",
    "ds = load_dataset(\"microsoft/wiki_qa\")"
   ]
  },
  {
   "cell_type": "code",
   "execution_count": 21,
   "metadata": {},
   "outputs": [
    {
     "name": "stdout",
     "output_type": "stream",
     "text": [
      "Recall: 0.9937\n",
      "False Negative Rate (FNR): 0.0063\n"
     ]
    }
   ],
   "source": [
    "questions = list(set(ds['test']['question']))\n",
    "\n",
    "errors = []\n",
    "classifications = []\n",
    "\n",
    "for prompt in questions:\n",
    "    error, classification = classify_prompt(prompt, model, sentence_model, threshold)\n",
    "\n",
    "    errors.append(error)\n",
    "    classifications.append(classification)\n",
    "\n",
    "false_negatives = []\n",
    "for prompt, classification, error in zip(questions, classifications, errors):\n",
    "    if classification == 1:\n",
    "        false_negatives.append((prompt, error))\n",
    "\n",
    "FN = len(false_negatives)\n",
    "TP = len(questions) - FN\n",
    "\n",
    "# Calculate Recall and FNR\n",
    "recall = TP / (TP + FN)\n",
    "fnr = FN / (TP + FN)\n",
    "\n",
    "print(f\"Recall: {recall:.4f}\")\n",
    "print(f\"False Negative Rate (FNR): {fnr:.4f}\")"
   ]
  },
  {
   "cell_type": "code",
   "execution_count": null,
   "metadata": {},
   "outputs": [],
   "source": []
  }
 ],
 "metadata": {
  "accelerator": "GPU",
  "colab": {
   "gpuType": "T4",
   "provenance": []
  },
  "kernelspec": {
   "display_name": "Python 3.11 (default)",
   "language": "python",
   "name": "python3"
  },
  "language_info": {
   "codemirror_mode": {
    "name": "ipython",
    "version": 3
   },
   "file_extension": ".py",
   "mimetype": "text/x-python",
   "name": "python",
   "nbconvert_exporter": "python",
   "pygments_lexer": "ipython3",
   "version": "3.11.11"
  }
 },
 "nbformat": 4,
 "nbformat_minor": 4
}
